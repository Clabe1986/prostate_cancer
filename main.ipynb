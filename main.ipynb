{
 "cells": [
  {
   "cell_type": "code",
   "execution_count": 1,
   "id": "3e38e1ce",
   "metadata": {},
   "outputs": [
    {
     "name": "stderr",
     "output_type": "stream",
     "text": [
      "/home/clabe/anaconda3/envs/web/lib/python3.11/site-packages/pyedr/pyedr.py:44: DeprecationWarning: 'xdrlib' is deprecated and slated for removal in Python 3.13\n",
      "  import xdrlib\n"
     ]
    }
   ],
   "source": [
    "import warnings\n",
    "warnings.filterwarnings('ignore')\n",
    "from ipywidgets import widgets\n",
    "from IPython.display import display, HTML, Markdown, clear_output\n",
    "import pandas as pd\n",
    "from rdkit import Chem\n",
    "from rdkit.Chem import Descriptors\n",
    "from padelpy import padeldescriptor\n",
    "import joblib\n",
    "import py3Dmol\n",
    "import csv\n",
    "import glob\n",
    "from rdkit.Chem import AllChem\n",
    "from meeko import MoleculePreparation, PDBQTWriterLegacy\n",
    "from pymol import cmd\n",
    "from vina import Vina\n",
    "import sys\n",
    "sys.path.insert(1, 'Jupyter_Dock/utilities/')\n",
    "from utils import getbox, pdbqt_to_sdf\n",
    "import warnings\n",
    "warnings.filterwarnings(\"ignore\", category=DeprecationWarning, message=\"'xdrlib' is deprecated\")"
   ]
  },
  {
   "cell_type": "code",
   "execution_count": 2,
   "id": "630770db",
   "metadata": {},
   "outputs": [],
   "source": [
    "# !jupyter nbextension enable --py widgetsnbextension --sys-prefix\n",
    "# !jupyter serverextension enable voila --sys-prefix"
   ]
  },
  {
   "cell_type": "code",
   "execution_count": 3,
   "id": "e5cd956b",
   "metadata": {},
   "outputs": [],
   "source": [
    "#constants\n",
    "docking_protein = '5gs4_clean.pdb'\n",
    "vina_input = '5gs4.pdbqt'"
   ]
  },
  {
   "cell_type": "code",
   "execution_count": 4,
   "id": "4b8c8417",
   "metadata": {},
   "outputs": [],
   "source": [
    "def calculate_lipinski_descriptors(smiles):\n",
    "    mol = Chem.MolFromSmiles(smiles)\n",
    "    if mol is None:\n",
    "        raise ValueError(\"You entered an invalid SMILES string\")\n",
    "\n",
    "    descriptors = {\n",
    "        'Molecular Weight': Descriptors.MolWt(mol),\n",
    "        'LogP': Descriptors.MolLogP(mol),\n",
    "        'Num H Donors': Descriptors.NumHDonors(mol),\n",
    "        'Num H Acceptors': Descriptors.NumHAcceptors(mol),\n",
    "        'Num Rotatable Bonds': Descriptors.NumRotatableBonds(mol),\n",
    "        'Carbon Count': Descriptors.HeavyAtomCount(mol),\n",
    "        'Oxygen Count': sum(1 for atom in mol.GetAtoms() if atom.GetAtomicNum() == 8)\n",
    "    }\n",
    "\n",
    "    aliases = {\n",
    "        'Molecular Weight': 'Molecular Weight',\n",
    "        'LogP': 'LogP',\n",
    "        'Num H Donors': 'Number Hydrogen Bond Donors',\n",
    "        'Num H Acceptors': 'Number of Hydrogen Bond Acceptors',\n",
    "        'Num Rotatable Bonds': 'Number of Rotatable Bonds',\n",
    "        'Carbon Count': 'Carbon Count',\n",
    "        'Oxygen Count': 'Oxygen Count'\n",
    "    }\n",
    "\n",
    "    table_html = \"<table style='font-size: 20px;'>\"\n",
    "    for descriptor, value in descriptors.items():\n",
    "        alias = aliases.get(descriptor, descriptor)\n",
    "        table_html += f\"<tr><td><strong>{alias}:</strong></td><td>{value:.4f}</td></tr>\"\n",
    "    table_html += \"</table>\"\n",
    "\n",
    "    return table_html\n",
    "\n",
    "def generate_csv_file(string1, string2, filename):\n",
    "    data = [[string1 + '\\t' + string2]]  # Create a list of lists containing the strings\n",
    "\n",
    "    with open(filename, 'w', newline='') as file:\n",
    "        writer = csv.writer(file)\n",
    "        writer.writerows(data)\n",
    "        \n",
    "def prepare_and_dock(smiles):\n",
    "    # Convert SMILES to molecule object\n",
    "    mol = Chem.MolFromSmiles(smiles)\n",
    "    mol = Chem.AddHs(mol)\n",
    "    AllChem.EmbedMolecule(mol, randomSeed=42)\n",
    "    \n",
    "    # Write the molecule to an SDF file\n",
    "    writer = Chem.SDWriter(\"ligand_clean.sdf\")\n",
    "    writer.write(mol)\n",
    "    writer.close()\n",
    "    \n",
    "    # Prepare the ligand\n",
    "    mol_supplier = Chem.SDMolSupplier(\"ligand_clean.sdf\", removeHs=False)\n",
    "    preparator = MoleculePreparation()\n",
    "    \n",
    "    for mol in mol_supplier:\n",
    "        mol_setups = preparator.prepare(mol)\n",
    "        for setup in mol_setups:\n",
    "            pdbqt_tuple = PDBQTWriterLegacy.write_string(setup)\n",
    "            pdbqt_string = pdbqt_tuple[0]\n",
    "            \n",
    "            # Save pdbqt_string to the ligand.pdbqt file\n",
    "            with open(\"ligand.pdbqt\", \"w\") as pdbqt_file:\n",
    "                pdbqt_file.write(pdbqt_string)\n",
    "                \n",
    "    cmd.load(filename=docking_protein,format='pdb',object='prot')\n",
    "    cmd.load(filename='ligand_clean.sdf',format='sdf',object='lig')\n",
    "    center, size= getbox(selection='lig',extending=5.0,software='vina')\n",
    "    cmd.delete('all')\n",
    "\n",
    "    v = Vina(sf_name='vina')\n",
    "    v.set_receptor(vina_input)\n",
    "    v.set_ligand_from_file('ligand.pdbqt')\n",
    "    v.compute_vina_maps(center=[center['center_x'], center['center_y'], center['center_z']], \n",
    "                        box_size=[size['size_x'], size['size_y'], size['size_z']])\n",
    "    \n",
    "    v.dock(exhaustiveness=10, n_poses=10)\n",
    "    v.write_poses('5gs4_ligand_vina_out.pdbqt', n_poses=10, overwrite=True)\n",
    "    pdbqt_to_sdf(pdbqt_file='5gs4_ligand_vina_out.pdbqt',output='5gs4_ligand_vina_out.sdf')"
   ]
  },
  {
   "cell_type": "code",
   "execution_count": 5,
   "id": "c15d80e2",
   "metadata": {},
   "outputs": [],
   "source": [
    "# Define action when the button is clicked\n",
    "def on_button_click(b):\n",
    "    with out:\n",
    "        clear_output(wait=True)\n",
    "        smiles = input_smiles.value\n",
    "        prepare_and_dock(smiles)\n",
    "\n",
    "        # Load and visualize the protein\n",
    "        view = py3Dmol.view()\n",
    "        view.removeAllModels()\n",
    "        view.setBackgroundColor('white')\n",
    "        view.setViewStyle({'style':'outline','color':'black','width':0.1})\n",
    "\n",
    "        prot_pdb = open(docking_protein, 'r').read()\n",
    "        view.addModel(prot_pdb, format='pdb')\n",
    "        Prot = view.getModel()\n",
    "        Prot.setStyle({'cartoon':{'arrows':True, 'tubes':False, 'style':'oval', 'color':'spectrum'}})\n",
    "\n",
    "        results=Chem.SDMolSupplier('5gs4_ligand_vina_out.sdf')\n",
    "\n",
    "        p=Chem.MolToMolBlock(results[0],False)\n",
    "\n",
    "        print ('Pose: {} | Score: {}'.format(results[0].GetProp('Pose'),results[0].GetProp('Score')))\n",
    "\n",
    "        view.addModel(p,'mol')\n",
    "        x = view.getModel()\n",
    "        x.setStyle({},{'stick':{'colorscheme':'cyanCarbon','radius':0.2}})\n",
    "\n",
    "        view.zoomTo()\n",
    "        view.show()"
   ]
  },
  {
   "cell_type": "code",
   "execution_count": 6,
   "id": "eedd71cd",
   "metadata": {},
   "outputs": [
    {
     "data": {
      "text/html": [
       "\n",
       "<style>\n",
       ".widget-label {\n",
       "    font-size: 16px; /* Change this value to adjust the label font size */\n",
       "}\n",
       ".widget-dropdown > .dropdown-container > .dropdown-list > .item {\n",
       "    font-size: 16px; /* Change this value to adjust the option font size */\n",
       "}\n",
       "\n",
       "/* Center-align the widget */\n",
       ".widget-dropdown {\n",
       "    display: flex;\n",
       "    justify-content: center;\n",
       "}\n",
       "</style>\n"
      ],
      "text/plain": [
       "<IPython.core.display.HTML object>"
      ]
     },
     "metadata": {},
     "output_type": "display_data"
    }
   ],
   "source": [
    "smiles_input = widgets.Text(placeholder=\"Enter Canonical SMILES\")\n",
    "\n",
    "# Define the dropdown options\n",
    "options = widgets.Dropdown(\n",
    "    options=[\n",
    "        \"Compute Lipinski's Descriptors\",\n",
    "        \"Predict the Compound's pIC50\",\n",
    "        \"Perform docking\",\n",
    "    ],\n",
    "    disabled=False,\n",
    "    description=\"Program:\"\n",
    ")\n",
    "\n",
    "# Apply custom CSS to increase the font size of both label and options and center-align the widget\n",
    "css = \"\"\"\n",
    "<style>\n",
    ".widget-label {\n",
    "    font-size: 16px; /* Change this value to adjust the label font size */\n",
    "}\n",
    ".widget-dropdown > .dropdown-container > .dropdown-list > .item {\n",
    "    font-size: 16px; /* Change this value to adjust the option font size */\n",
    "}\n",
    "\n",
    "/* Center-align the widget */\n",
    ".widget-dropdown {\n",
    "    display: flex;\n",
    "    justify-content: center;\n",
    "}\n",
    "</style>\n",
    "\"\"\"\n",
    "display(HTML(css))\n",
    "\n",
    "run_button = widgets.Button(description=\"Run\", button_style='success')\n",
    "run_button.style.button_color = 'lightgreen'\n",
    "output = widgets.Output()"
   ]
  },
  {
   "cell_type": "code",
   "execution_count": 7,
   "id": "bfa9b689",
   "metadata": {},
   "outputs": [],
   "source": [
    "def run_button_clicked(b):\n",
    "    with output:\n",
    "        output.clear_output()\n",
    "\n",
    "        smiles = smiles_input.value\n",
    "        selected_option = options.value\n",
    "\n",
    "        if not smiles:\n",
    "            print(\"You did not enter Canonical SMILES\")\n",
    "            return\n",
    "\n",
    "        try:\n",
    "            if selected_option == \"Compute Lipinski's Descriptors\":\n",
    "                table_html = calculate_lipinski_descriptors(smiles)\n",
    "                display(HTML(table_html))\n",
    "\n",
    "            elif selected_option == \"Predict the Compound's pIC50\":\n",
    "                string1 = smiles\n",
    "                string2 = 'Compound_name'\n",
    "                filename = \"molecule.smi\"\n",
    "                generate_csv_file(string1, string2, filename)\n",
    "\n",
    "                xml_files = glob.glob(\"fingerprints_xml/*.xml\")\n",
    "                xml_files.sort()\n",
    "                FP_list = ['AtomPairs2DCount', 'AtomPairs2D', 'EState', 'CDKextended', 'CDK', 'CDKgraphonly',\n",
    "                           'KlekotaRothCount',\n",
    "                           'KlekotaRoth', 'MACCS', 'PubChem', 'SubstructureCount', 'Substructure']\n",
    "                fp = dict(zip(FP_list, xml_files))\n",
    "                fingerprint = 'Substructure'\n",
    "                fingerprint_output_file = ''.join([fingerprint, '.csv'])\n",
    "                fingerprint_descriptortypes = fp[fingerprint]\n",
    "\n",
    "                padeldescriptor(mol_dir='molecule.smi',\n",
    "                                d_file=fingerprint_output_file,\n",
    "                                descriptortypes=fingerprint_descriptortypes,\n",
    "                                detectaromaticity=True,\n",
    "                                standardizenitro=True,\n",
    "                                standardizetautomers=True,\n",
    "                                removesalt=True,\n",
    "                                log=True,\n",
    "                                fingerprints=True)\n",
    "\n",
    "                data = pd.read_csv('Substructure.csv')\n",
    "                X = data.drop(columns=['Name'])\n",
    "\n",
    "                loaded_model = joblib.load('padel_model.joblib')\n",
    "                y_pred = loaded_model.predict(X)\n",
    "                predicted_value = y_pred[0]\n",
    "                predicted_value = format(predicted_value, \".2f\")\n",
    "                display(Markdown(f\"### The pIC50 of your compound is **{predicted_value}**\"))\n",
    "                \n",
    "            elif selected_option == \"Perform docking\":\n",
    "                prepare_and_dock(smiles)\n",
    "\n",
    "                # Load and visualize the protein and docking results\n",
    "                view = py3Dmol.view()\n",
    "                view.removeAllModels()\n",
    "                view.setBackgroundColor('white')\n",
    "                view.setViewStyle({'style':'outline','color':'black','width':0.1})\n",
    "\n",
    "                # Load protein\n",
    "                prot_pdb = open(docking_protein, 'r').read()\n",
    "                view.addModel(prot_pdb, format='pdb')\n",
    "                Prot = view.getModel()\n",
    "                Prot.setStyle({'cartoon':{'arrows':True, 'tubes':False, 'style':'oval', 'color':'spectrum'}})\n",
    "\n",
    "                # Load docking results\n",
    "                results = Chem.SDMolSupplier('5gs4_ligand_vina_out.sdf')\n",
    "                \n",
    "                p = Chem.MolToMolBlock(results[0],False)\n",
    "                view.addModel(p, 'mol')\n",
    "                x = view.getModel()\n",
    "                x.setStyle({}, {'stick': {'colorscheme': 'cyanCarbon', 'radius': 0.2}})\n",
    "\n",
    "                view.zoomTo()\n",
    "                view.show()\n",
    "\n",
    "        except ValueError as e:\n",
    "            print(str(e))      "
   ]
  },
  {
   "cell_type": "code",
   "execution_count": 8,
   "id": "125148fd",
   "metadata": {},
   "outputs": [],
   "source": [
    "# Attach callback to the Run button\n",
    "run_button.on_click(run_button_clicked)"
   ]
  },
  {
   "cell_type": "code",
   "execution_count": 9,
   "id": "712deaf2",
   "metadata": {},
   "outputs": [
    {
     "data": {
      "application/vnd.jupyter.widget-view+json": {
       "model_id": "839255456b3b4ae9ab841e5276dad2de",
       "version_major": 2,
       "version_minor": 0
      },
      "text/plain": [
       "Text(value='', placeholder='Enter Canonical SMILES')"
      ]
     },
     "metadata": {},
     "output_type": "display_data"
    },
    {
     "data": {
      "application/vnd.jupyter.widget-view+json": {
       "model_id": "4082e959a5b44188b12e9cfc9e19b7d1",
       "version_major": 2,
       "version_minor": 0
      },
      "text/plain": [
       "Dropdown(description='Program:', options=(\"Compute Lipinski's Descriptors\", \"Predict the Compound's pIC50\", 'P…"
      ]
     },
     "metadata": {},
     "output_type": "display_data"
    },
    {
     "data": {
      "application/vnd.jupyter.widget-view+json": {
       "model_id": "7d9036d7f0ba4b0fa90aecd793f4af4b",
       "version_major": 2,
       "version_minor": 0
      },
      "text/plain": [
       "Button(button_style='success', description='Run', style=ButtonStyle(button_color='lightgreen'))"
      ]
     },
     "metadata": {},
     "output_type": "display_data"
    },
    {
     "data": {
      "application/vnd.jupyter.widget-view+json": {
       "model_id": "50402baf31134f7ba3b626fcc562f38b",
       "version_major": 2,
       "version_minor": 0
      },
      "text/plain": [
       "Output()"
      ]
     },
     "metadata": {},
     "output_type": "display_data"
    }
   ],
   "source": [
    "# Display widgets\n",
    "display(smiles_input)\n",
    "display(options)\n",
    "display(run_button)\n",
    "display(output)      "
   ]
  }
 ],
 "metadata": {
  "kernelspec": {
   "display_name": "Python 3 (ipykernel)",
   "language": "python",
   "name": "python3"
  },
  "language_info": {
   "codemirror_mode": {
    "name": "ipython",
    "version": 3
   },
   "file_extension": ".py",
   "mimetype": "text/x-python",
   "name": "python",
   "nbconvert_exporter": "python",
   "pygments_lexer": "ipython3",
   "version": "3.11.5"
  }
 },
 "nbformat": 4,
 "nbformat_minor": 5
}
